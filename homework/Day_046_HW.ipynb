{
 "cells": [
  {
   "cell_type": "markdown",
   "metadata": {},
   "source": [
    "### 作業\n",
    "目前已經學過許多的模型，相信大家對整體流程應該比較掌握了，這次作業請改用**手寫辨識資料集**，步驟流程都是一樣的，請試著自己撰寫程式碼來完成所有步驟"
   ]
  },
  {
   "cell_type": "code",
   "execution_count": 23,
   "metadata": {},
   "outputs": [],
   "source": [
    "from sklearn import datasets, metrics\n",
    "from sklearn.model_selection import train_test_split\n",
    "from sklearn.ensemble import GradientBoostingClassifier"
   ]
  },
  {
   "cell_type": "code",
   "execution_count": 24,
   "metadata": {},
   "outputs": [
    {
     "name": "stdout",
     "output_type": "stream",
     "text": [
      "Acuuracy: 0.9644444444444444\n"
     ]
    }
   ],
   "source": [
    "digits = datasets.load_digits()\n",
    "\n",
    "x_train, x_test, y_train, y_test = train_test_split(digits.data, digits.target, test_size=0.25, random_state=4)\n",
    "\n",
    "clf = GradientBoostingClassifier()\n",
    "\n",
    "clf.fit(x_train, y_train)\n",
    "\n",
    "y_pred = clf.predict(x_test)\n",
    "\n",
    "acc = metrics.accuracy_score(y_test, y_pred)\n",
    "print(f'Acuuracy: {acc}')"
   ]
  },
  {
   "cell_type": "code",
   "execution_count": 25,
   "metadata": {},
   "outputs": [
    {
     "name": "stdout",
     "output_type": "stream",
     "text": [
      "Acuuracy: 0.9666666666666667\n"
     ]
    }
   ],
   "source": [
    "# Selecting smaller learning rate.\n",
    "clf_smaller_LR = GradientBoostingClassifier(learning_rate=0.05, n_estimators=200)\n",
    "\n",
    "clf_smaller_LR.fit(x_train, y_train)\n",
    "\n",
    "y_pred_smaller_LR = clf_smaller_LR.predict(x_test)\n",
    "\n",
    "acc = metrics.accuracy_score(y_test, y_pred_smaller_LR)\n",
    "print(f'Acuuracy: {acc}')"
   ]
  },
  {
   "cell_type": "code",
   "execution_count": 26,
   "metadata": {},
   "outputs": [
    {
     "name": "stdout",
     "output_type": "stream",
     "text": [
      "Acuuracy: 0.9555555555555556\n"
     ]
    }
   ],
   "source": [
    "# Selecting larger learning rate.\n",
    "clf_larger_LR = GradientBoostingClassifier(learning_rate=0.5, n_estimators=20)\n",
    "\n",
    "clf_larger_LR.fit(x_train, y_train)\n",
    "\n",
    "y_pred_larger_LR = clf_larger_LR.predict(x_test)\n",
    "\n",
    "acc = metrics.accuracy_score(y_test, y_pred_larger_LR)\n",
    "print(f'Acuuracy: {acc}')"
   ]
  }
 ],
 "metadata": {
  "kernelspec": {
   "display_name": "Python 3",
   "language": "python",
   "name": "python3"
  },
  "language_info": {
   "codemirror_mode": {
    "name": "ipython",
    "version": 3
   },
   "file_extension": ".py",
   "mimetype": "text/x-python",
   "name": "python",
   "nbconvert_exporter": "python",
   "pygments_lexer": "ipython3",
   "version": "3.7.0"
  }
 },
 "nbformat": 4,
 "nbformat_minor": 2
}
