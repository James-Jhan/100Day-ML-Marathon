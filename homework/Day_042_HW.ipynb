{
 "cells": [
  {
   "cell_type": "markdown",
   "metadata": {},
   "source": [
    "## 作業\n",
    "\n",
    "1. 試著調整 DecisionTreeClassifier(...) 中的參數，並觀察是否會改變結果？\n",
    "2. 改用其他資料集 (boston, wine)，並與回歸模型的結果進行比較"
   ]
  },
  {
   "cell_type": "code",
   "execution_count": 1,
   "metadata": {},
   "outputs": [],
   "source": [
    "from sklearn import datasets, metrics\n",
    "\n",
    "from sklearn.tree import DecisionTreeClassifier, DecisionTreeRegressor\n",
    "from sklearn.model_selection import train_test_split"
   ]
  },
  {
   "cell_type": "code",
   "execution_count": 2,
   "metadata": {},
   "outputs": [
    {
     "name": "stdout",
     "output_type": "stream",
     "text": [
      "Accuracy:0.9736842105263158\n",
      "\n",
      "Feature Name:\n",
      "['sepal length (cm)', 'sepal width (cm)', 'petal length (cm)', 'petal width (cm)']\n",
      "\n",
      "Feature importance:  [0.         0.01796599 0.05992368 0.92211033]\n"
     ]
    }
   ],
   "source": [
    "iris = datasets.load_iris()\n",
    "\n",
    "x_train, x_test, y_train, y_test = train_test_split(iris.data, iris.target, test_size=0.25, random_state=4)\n",
    "\n",
    "clf = DecisionTreeClassifier()\n",
    "\n",
    "clf.fit(x_train, y_train)\n",
    "\n",
    "y_pred = clf.predict(x_test)\n",
    "\n",
    "acc = metrics.accuracy_score(y_test, y_pred)\n",
    "print(f'Accuracy:{acc}\\n')\n",
    "\n",
    "print(f'Feature Name:\\n{iris.feature_names}\\n')\n",
    "\n",
    "print(\"Feature importance: \", clf.feature_importances_)"
   ]
  },
  {
   "cell_type": "code",
   "execution_count": 3,
   "metadata": {},
   "outputs": [
    {
     "name": "stdout",
     "output_type": "stream",
     "text": [
      "Accuracy by using Gini:0.9736842105263158\n",
      "\n",
      "Accuracy by using Entropy:0.9736842105263158\n",
      "\n"
     ]
    }
   ],
   "source": [
    "# 可調整參數：1. criterion\n",
    "clf_cri_gini = DecisionTreeClassifier(criterion='gini')\n",
    "clf_cri_entropy = DecisionTreeClassifier(criterion='entropy')\n",
    "\n",
    "clf_cri_gini.fit(x_train, y_train)\n",
    "clf_cri_entropy.fit(x_train, y_train)\n",
    "\n",
    "y_gini = clf_cri_gini.predict(x_test)\n",
    "y_entropy = clf_cri_entropy.predict(x_test)\n",
    "\n",
    "acc_gini = metrics.accuracy_score(y_test, y_gini)\n",
    "acc_entropy = metrics.accuracy_score(y_test, y_entropy)\n",
    "print(f'Accuracy by using Gini:{acc_gini}\\n')\n",
    "print(f'Accuracy by using Entropy:{acc_entropy}\\n')"
   ]
  },
  {
   "cell_type": "code",
   "execution_count": 4,
   "metadata": {},
   "outputs": [
    {
     "name": "stdout",
     "output_type": "stream",
     "text": [
      "Accuracy by using Max_Depth None:0.9736842105263158\n",
      "\n",
      "Accuracy by using Max_Depth 5:0.9736842105263158\n",
      "\n",
      "Accuracy by using Max_Depth 50:0.9736842105263158\n",
      "\n",
      "Accuracy by using Max_Depth 500:0.9736842105263158\n",
      "\n"
     ]
    }
   ],
   "source": [
    "# 可調整參數：2.Max_depth\n",
    "clf_cri_depth_none = DecisionTreeClassifier(max_depth=None)\n",
    "clf_cri_depth_5 = DecisionTreeClassifier(max_depth=5)\n",
    "clf_cri_depth_50 = DecisionTreeClassifier(max_depth=50)\n",
    "clf_cri_depth_500 = DecisionTreeClassifier(max_depth=500)\n",
    "\n",
    "clf_cri_depth_none.fit(x_train, y_train)\n",
    "clf_cri_depth_5.fit(x_train, y_train)\n",
    "clf_cri_depth_50.fit(x_train, y_train)\n",
    "clf_cri_depth_500.fit(x_train, y_train)\n",
    "\n",
    "y_depth_none = clf_cri_depth_none.predict(x_test)\n",
    "y_depth_5 = clf_cri_depth_5.predict(x_test)\n",
    "y_depth_50 = clf_cri_depth_50.predict(x_test)\n",
    "y_depth_500 = clf_cri_depth_500.predict(x_test)\n",
    "\n",
    "acc_depth_none = metrics.accuracy_score(y_test, y_depth_none)\n",
    "acc_depth_5 = metrics.accuracy_score(y_test, y_depth_5)\n",
    "acc_depth_50 = metrics.accuracy_score(y_test, y_depth_50)\n",
    "acc_depth_500 = metrics.accuracy_score(y_test, y_depth_500)\n",
    "\n",
    "print(f'Accuracy by using Max_Depth None:{acc_depth_none}\\n')\n",
    "print(f'Accuracy by using Max_Depth 5:{acc_depth_5}\\n')\n",
    "print(f'Accuracy by using Max_Depth 50:{acc_depth_50}\\n')\n",
    "print(f'Accuracy by using Max_Depth 500:{acc_depth_500}\\n')"
   ]
  },
  {
   "cell_type": "code",
   "execution_count": 5,
   "metadata": {},
   "outputs": [
    {
     "name": "stdout",
     "output_type": "stream",
     "text": [
      "Accuracy by using min_samples_split = 2:0.9736842105263158\n",
      "\n",
      "Accuracy by using min_samples_split = 5:0.9736842105263158\n",
      "\n",
      "Accuracy by using min_samples_split = 50:0.9736842105263158\n",
      "\n",
      "Accuracy by using min_samples_split = 500:0.21052631578947367\n",
      "\n"
     ]
    }
   ],
   "source": [
    "# 可調整參數：3.Min_samples_split\n",
    "clf_cri_min_samples_split_2 = DecisionTreeClassifier(min_samples_split=2)\n",
    "clf_cri_min_samples_split_5 = DecisionTreeClassifier(min_samples_split=5)\n",
    "clf_cri_min_samples_split_50 = DecisionTreeClassifier(min_samples_split=50)\n",
    "clf_cri_min_samples_split_500 = DecisionTreeClassifier(min_samples_split=500)\n",
    "\n",
    "clf_cri_min_samples_split_2.fit(x_train, y_train)\n",
    "clf_cri_min_samples_split_5.fit(x_train, y_train)\n",
    "clf_cri_min_samples_split_50.fit(x_train, y_train)\n",
    "clf_cri_min_samples_split_500.fit(x_train, y_train)\n",
    "\n",
    "y_min_samples_split_2 = clf_cri_min_samples_split_2.predict(x_test)\n",
    "y_min_samples_split_5 = clf_cri_min_samples_split_5.predict(x_test)\n",
    "y_min_samples_split_50 = clf_cri_min_samples_split_50.predict(x_test)\n",
    "y_min_samples_split_500 = clf_cri_min_samples_split_500.predict(x_test)\n",
    "\n",
    "acc_min_samples_split_2 = metrics.accuracy_score(y_test, y_min_samples_split_2)\n",
    "acc_min_samples_split_5 = metrics.accuracy_score(y_test, y_min_samples_split_5)\n",
    "acc_min_samples_split_50 = metrics.accuracy_score(y_test, y_min_samples_split_50)\n",
    "acc_min_samples_split_500 = metrics.accuracy_score(y_test, y_min_samples_split_500)\n",
    "\n",
    "print(f'Accuracy by using min_samples_split = 2:{acc_min_samples_split_2}\\n')\n",
    "print(f'Accuracy by using min_samples_split = 5:{acc_min_samples_split_5}\\n')\n",
    "print(f'Accuracy by using min_samples_split = 50:{acc_min_samples_split_50}\\n')\n",
    "print(f'Accuracy by using min_samples_split = 500:{acc_min_samples_split_500}\\n')"
   ]
  },
  {
   "cell_type": "code",
   "execution_count": 6,
   "metadata": {},
   "outputs": [
    {
     "name": "stdout",
     "output_type": "stream",
     "text": [
      "Accuracy by using min_samples_leaf = 2:0.9736842105263158\n",
      "\n",
      "Accuracy by using min_samples_leaf = 5:0.9736842105263158\n",
      "\n",
      "Accuracy by using min_samples_leaf = 50:0.7894736842105263\n",
      "\n",
      "Accuracy by using min_samples_leaf = 500:0.21052631578947367\n",
      "\n"
     ]
    }
   ],
   "source": [
    "# 可調整參數：4.Min_samples_leaf\n",
    "clf_cri_min_samples_leaf_2 = DecisionTreeClassifier(min_samples_leaf=2)\n",
    "clf_cri_min_samples_leaf_5 = DecisionTreeClassifier(min_samples_leaf=5)\n",
    "clf_cri_min_samples_leaf_50 = DecisionTreeClassifier(min_samples_leaf=50)\n",
    "clf_cri_min_samples_leaf_500 = DecisionTreeClassifier(min_samples_leaf=500)\n",
    "\n",
    "clf_cri_min_samples_leaf_2.fit(x_train, y_train)\n",
    "clf_cri_min_samples_leaf_5.fit(x_train, y_train)\n",
    "clf_cri_min_samples_leaf_50.fit(x_train, y_train)\n",
    "clf_cri_min_samples_leaf_500.fit(x_train, y_train)\n",
    "\n",
    "y_min_samples_leaf_2 = clf_cri_min_samples_leaf_2.predict(x_test)\n",
    "y_min_samples_leaf_5 = clf_cri_min_samples_leaf_5.predict(x_test)\n",
    "y_min_samples_leaf_50 = clf_cri_min_samples_leaf_50.predict(x_test)\n",
    "y_min_samples_leaf_500 = clf_cri_min_samples_leaf_500.predict(x_test)\n",
    "\n",
    "acc_min_samples_leaf_2 = metrics.accuracy_score(y_test, y_min_samples_leaf_2)\n",
    "acc_min_samples_leaf_5 = metrics.accuracy_score(y_test, y_min_samples_leaf_5)\n",
    "acc_min_samples_leaf_50 = metrics.accuracy_score(y_test, y_min_samples_leaf_50)\n",
    "acc_min_samples_leaf_500 = metrics.accuracy_score(y_test, y_min_samples_leaf_500)\n",
    "\n",
    "print(f'Accuracy by using min_samples_leaf = 2:{acc_min_samples_leaf_2}\\n')\n",
    "print(f'Accuracy by using min_samples_leaf = 5:{acc_min_samples_leaf_5}\\n')\n",
    "print(f'Accuracy by using min_samples_leaf = 50:{acc_min_samples_leaf_50}\\n')\n",
    "print(f'Accuracy by using min_samples_leaf = 500:{acc_min_samples_leaf_500}\\n')"
   ]
  },
  {
   "cell_type": "code",
   "execution_count": 7,
   "metadata": {},
   "outputs": [
    {
     "name": "stdout",
     "output_type": "stream",
     "text": [
      "Accuracy:0.9736842105263158\n"
     ]
    }
   ],
   "source": [
    "# 調整參數：2.Max_depth, 3.Min_samples_split, 4.Min_samples_leaf\n",
    "clf_test = DecisionTreeClassifier(min_samples_split=500, min_samples_leaf=500)\n",
    "\n",
    "clf_test.fit(x_train, y_train)\n",
    "\n",
    "y_test_pred = clf_test.predict(x_test)\n",
    "\n",
    "acc_test = metrics.accuracy_score(y_test, y_pred)\n",
    "print(f'Accuracy:{acc_test}')"
   ]
  },
  {
   "cell_type": "markdown",
   "metadata": {},
   "source": [
    "* 1. 嘗試個別調整 criterion, max_depth, min_samples_split 與 min_samples_leaf，發現此例子只有調整 min_samples_split 與 min_samples_leaf 到 500 精準度才會下降。但是同時將這兩個數值「同時」調整為 500 的時候，精準度又會回到原本的數值。"
   ]
  },
  {
   "cell_type": "code",
   "execution_count": 8,
   "metadata": {},
   "outputs": [
    {
     "name": "stdout",
     "output_type": "stream",
     "text": [
      "LinearRegression Mean Squared error: 0.065\n"
     ]
    }
   ],
   "source": [
    "from sklearn import linear_model\n",
    "\n",
    "wine = datasets.load_wine()\n",
    "\n",
    "x_train, x_test, y_train, y_test = train_test_split(wine.data, wine.target, test_size=0.25, random_state=4)\n",
    "\n",
    "linear = linear_model.LinearRegression()\n",
    "\n",
    "linear.fit(x_train, y_train)\n",
    "\n",
    "y_pred = linear.predict(x_test)\n",
    "\n",
    "acc = metrics.mean_squared_error(y_test, y_pred)\n",
    "\n",
    "print(\"LinearRegression Mean Squared error: %.3f\" % acc)"
   ]
  },
  {
   "cell_type": "code",
   "execution_count": 9,
   "metadata": {},
   "outputs": [
    {
     "name": "stdout",
     "output_type": "stream",
     "text": [
      "LinearRegression Mean Squared error: 0.022\n",
      "Gain: 0.677\n"
     ]
    }
   ],
   "source": [
    "clf = DecisionTreeRegressor()\n",
    "\n",
    "clf.fit(x_train, y_train)\n",
    "\n",
    "y_pred = clf.predict(x_test)\n",
    "\n",
    "acc = metrics.mean_squared_error(y_test, y_pred)\n",
    "print(\"LinearRegression Mean Squared error: %.3f\" %acc)\n",
    "print(\"Gain: %.3f\" % (0.044/0.065))"
   ]
  },
  {
   "cell_type": "markdown",
   "metadata": {},
   "source": [
    "* 使用 DecisionTreeRegressor 進行 wine 的回歸分析，其 MSE = 0.044，相較於一般的線性回歸分析的 MSE=0.065，其精準度上升 33 %."
   ]
  }
 ],
 "metadata": {
  "kernelspec": {
   "display_name": "Python 3",
   "language": "python",
   "name": "python3"
  },
  "language_info": {
   "codemirror_mode": {
    "name": "ipython",
    "version": 3
   },
   "file_extension": ".py",
   "mimetype": "text/x-python",
   "name": "python",
   "nbconvert_exporter": "python",
   "pygments_lexer": "ipython3",
   "version": "3.7.0"
  }
 },
 "nbformat": 4,
 "nbformat_minor": 2
}
