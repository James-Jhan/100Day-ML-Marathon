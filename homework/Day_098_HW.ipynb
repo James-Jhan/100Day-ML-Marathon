{
 "cells": [
  {
   "cell_type": "markdown",
   "metadata": {},
   "source": [
    "## 作業"
   ]
  },
  {
   "cell_type": "markdown",
   "metadata": {},
   "source": [
    "請參考昨天的程式碼，將訓練資料讀取方式改寫成 Generator，並將原本的 model.fit 改為 model.fit_generator 來進行訓練。請參考 Keras [官方文件中 fit_generator 的說明](https://keras.io/models/sequential/)"
   ]
  },
  {
   "cell_type": "code",
   "execution_count": 1,
   "metadata": {},
   "outputs": [
    {
     "name": "stderr",
     "output_type": "stream",
     "text": [
      "Using TensorFlow backend.\n"
     ]
    }
   ],
   "source": [
    "# Loading library\n",
    "from keras.datasets import cifar10\n",
    "from keras.models import Sequential\n",
    "from keras.layers import Dense, Dropout, Activation, Flatten\n",
    "from keras.layers import Conv2D, MaxPooling2D\n",
    "from keras.optimizers import RMSprop, Adam\n",
    "from keras.utils import to_categorical"
   ]
  },
  {
   "cell_type": "code",
   "execution_count": 2,
   "metadata": {},
   "outputs": [],
   "source": [
    "# Setting hyper-parameters\n",
    "batch_size = 128 # batch 的大小，如果出現 OOM error，請降低這個值\n",
    "num_classes = 10 # 類別的數量，Cifar 10 共有 10 個類別\n",
    "epochs = 10 # 訓練的 epochs 數量"
   ]
  },
  {
   "cell_type": "code",
   "execution_count": 3,
   "metadata": {},
   "outputs": [
    {
     "name": "stdout",
     "output_type": "stream",
     "text": [
      "x_train shape: (50000, 32, 32, 3)\n",
      "x_test shape: (10000, 32, 32, 3)\n"
     ]
    }
   ],
   "source": [
    "# Check data formation\n",
    "(x_train_orginal, y_train_orginal), (x_test_orginal, y_test_orginal) = cifar10.load_data()\n",
    "print('x_train shape:', x_train_orginal.shape)\n",
    "print('x_test shape:', x_test_orginal.shape)"
   ]
  },
  {
   "cell_type": "code",
   "execution_count": 4,
   "metadata": {},
   "outputs": [],
   "source": [
    "x_train = x_train_orginal\n",
    "x_test = x_test_orginal\n",
    "\n",
    "x_train = x_train.astype('float32')\n",
    "x_test = x_test.astype('float32')\n",
    "x_train /= 255\n",
    "x_test /= 255\n",
    "\n",
    "# Convert class vectors to binary class matrices.\n",
    "y_train = to_categorical(y_train_orginal, num_classes)\n",
    "y_test = to_categorical(y_test_orginal, num_classes)"
   ]
  },
  {
   "cell_type": "code",
   "execution_count": 9,
   "metadata": {},
   "outputs": [],
   "source": [
    "import math\n",
    "\n",
    "class Model():\n",
    "    def __init__(self, x_train, y_train, x_test, y_test):\n",
    "        self.FirConvSize = None\n",
    "        self.SecConvSize = None\n",
    "        self.Padding = None\n",
    "        self.model = None\n",
    "        self.KernlSize = None\n",
    "        self.x_train = x_train\n",
    "        self.y_train = y_train\n",
    "        self.x_test = x_test\n",
    "        self.y_test = y_test\n",
    "        self.cnt = 0\n",
    "    \n",
    "    def setHypParam(self, padding='same', KernlSize=(3, 3), FirConvSize=32, SecConvSize=64):\n",
    "        self.FirConvSize = FirConvSize\n",
    "        self.SecConvSize = SecConvSize\n",
    "        self.KernlSize = KernlSize\n",
    "        self.Padding = padding\n",
    "    \n",
    "    def buildModel(self):\n",
    "        self.model = Sequential()\n",
    "        self.model.add(Conv2D(self.FirConvSize, self.KernlSize, padding=self.Padding,\n",
    "                         input_shape=x_train.shape[1:]))\n",
    "        self.model.add(Activation('relu'))\n",
    "        self.model.add(Conv2D(self.FirConvSize, self.KernlSize))\n",
    "        self.model.add(Activation('relu'))\n",
    "        self.model.add(MaxPooling2D(pool_size=(2, 2)))\n",
    "        self.model.add(Dropout(0.25))\n",
    "        \n",
    "        self.model.add(Conv2D(self.SecConvSize, self.KernlSize, padding=self.Padding))\n",
    "        self.model.add(Activation('relu'))\n",
    "        self.model.add(Conv2D(self.SecConvSize, self.KernlSize))\n",
    "        self.model.add(Activation('relu'))\n",
    "        self.model.add(MaxPooling2D(pool_size=(2, 2)))\n",
    "        self.model.add(Dropout(0.25))\n",
    "\n",
    "        self.model.add(Flatten())\n",
    "        self.model.add(Dense(512))\n",
    "        self.model.add(Activation('relu'))\n",
    "        self.model.add(Dropout(0.5))\n",
    "        self.model.add(Dense(num_classes))\n",
    "        self.model.add(Activation('softmax'))\n",
    "    \n",
    "    def setCompile(self):\n",
    "        self.model.compile(loss='categorical_crossentropy',\n",
    "                           optimizer=RMSprop(),\n",
    "                           metrics=['accuracy'])\n",
    "        \n",
    "    def train_generator(self, batch_num = 32):\n",
    "        while True:\n",
    "            for indexs in range(0, len(self.x_train), batch_num):\n",
    "                x_train_gen = self.x_train[indexs: indexs+batch_num]\n",
    "                y_train_gen = self.y_train[indexs: indexs+batch_num]\n",
    "                yield x_train_gen, y_train_gen\n",
    "  \n",
    "    def fitModel_generator(self):\n",
    "        self.cnt += 1\n",
    "        print(self.cnt)\n",
    "        self.model.fit_generator(self.train_generator(),\n",
    "                                 epochs=epochs,\n",
    "                                 steps_per_epoch=math.ceil(len(x_train)/32),\n",
    "                                 verbose=True,\n",
    "                                 validation_data=(self.x_test, self.y_test))\n",
    "    \n",
    "    def evaluateScore(self):\n",
    "        return (self.model.evaluate(self.x_test, self.y_test, verbose=0))"
   ]
  },
  {
   "cell_type": "code",
   "execution_count": 10,
   "metadata": {},
   "outputs": [
    {
     "name": "stdout",
     "output_type": "stream",
     "text": [
      "1\n",
      "Epoch 1/10\n",
      "1563/1563 [==============================] - 36s 23ms/step - loss: 1.5183 - acc: 0.4586 - val_loss: 1.1890 - val_acc: 0.5820\n",
      "Epoch 2/10\n",
      "1563/1563 [==============================] - 28s 18ms/step - loss: 1.1181 - acc: 0.6123 - val_loss: 1.0308 - val_acc: 0.6458\n",
      "Epoch 3/10\n",
      "1563/1563 [==============================] - 30s 19ms/step - loss: 1.0049 - acc: 0.6522 - val_loss: 1.0362 - val_acc: 0.6423\n",
      "Epoch 4/10\n",
      "1563/1563 [==============================] - 27s 18ms/step - loss: 0.9688 - acc: 0.6716 - val_loss: 1.0934 - val_acc: 0.6386\n",
      "Epoch 5/10\n",
      "1563/1563 [==============================] - 28s 18ms/step - loss: 0.9767 - acc: 0.6757 - val_loss: 0.9278 - val_acc: 0.6968\n",
      "Epoch 6/10\n",
      "1563/1563 [==============================] - 28s 18ms/step - loss: 1.0183 - acc: 0.6675 - val_loss: 0.9769 - val_acc: 0.6845\n",
      "Epoch 7/10\n",
      "1563/1563 [==============================] - 27s 18ms/step - loss: 1.0478 - acc: 0.6622 - val_loss: 1.1319 - val_acc: 0.6176\n",
      "Epoch 8/10\n",
      "1563/1563 [==============================] - 28s 18ms/step - loss: 1.1000 - acc: 0.6454 - val_loss: 1.3314 - val_acc: 0.5805\n",
      "Epoch 9/10\n",
      "1563/1563 [==============================] - 28s 18ms/step - loss: 1.1311 - acc: 0.6376 - val_loss: 1.2065 - val_acc: 0.6024\n",
      "Epoch 10/10\n",
      "1563/1563 [==============================] - 27s 17ms/step - loss: 1.1778 - acc: 0.6234 - val_loss: 1.3819 - val_acc: 0.5519\n",
      "Test loss:1.3819\n",
      "Test accuracy:0.5519\n"
     ]
    }
   ],
   "source": [
    "# Discissing effection of conv size.\n",
    "# setting hyper-parameters\n",
    "FirConvSize = 64\n",
    "SecConvSize = 64\n",
    "padding = 'same'\n",
    "KernelSize_list = (3, 3)\n",
    "\n",
    "model = Model(x_train, y_train, x_test, y_test)\n",
    "model.setHypParam(FirConvSize=FirConvSize, SecConvSize=SecConvSize)\n",
    "model.buildModel()\n",
    "model.setCompile()\n",
    "model.fitModel_generator()\n",
    "score = model.evaluateScore()\n",
    "print('Test loss:%.4f' %score[0])\n",
    "print('Test accuracy:%.4f' %score[1])"
   ]
  },
  {
   "cell_type": "markdown",
   "metadata": {},
   "source": [
    "# Conclusion\n",
    "* 相較於 HW_97，這次在每次訓練的時候只用了 32 張圖進行訓練，因此得到的成效不如使用大量 Data 進行訓練。"
   ]
  }
 ],
 "metadata": {
  "kernelspec": {
   "display_name": "Python 3",
   "language": "python",
   "name": "python3"
  },
  "language_info": {
   "codemirror_mode": {
    "name": "ipython",
    "version": 3
   },
   "file_extension": ".py",
   "mimetype": "text/x-python",
   "name": "python",
   "nbconvert_exporter": "python",
   "pygments_lexer": "ipython3",
   "version": "3.7.1"
  }
 },
 "nbformat": 4,
 "nbformat_minor": 2
}
