{
 "cells": [
  {
   "cell_type": "markdown",
   "metadata": {},
   "source": [
    "# 作業"
   ]
  },
  {
   "cell_type": "markdown",
   "metadata": {},
   "source": [
    "請使用 ImageDataGenerator 來進行 Cifar-10 資料集的訓練，並觀察不同的圖像增強方法是否會顯著影響訓練結果"
   ]
  },
  {
   "cell_type": "code",
   "execution_count": 1,
   "metadata": {},
   "outputs": [
    {
     "name": "stderr",
     "output_type": "stream",
     "text": [
      "Using TensorFlow backend.\n"
     ]
    }
   ],
   "source": [
    "from keras.datasets import cifar10\n",
    "from keras.preprocessing.image import ImageDataGenerator\n",
    "%matplotlib inline"
   ]
  },
  {
   "cell_type": "code",
   "execution_count": 8,
   "metadata": {},
   "outputs": [],
   "source": [
    "# 讀取 Cifar-10 資料集\n",
    "(x_train, y_train), (x_test, y_test) = cifar10.load_data()"
   ]
  },
  {
   "cell_type": "code",
   "execution_count": 3,
   "metadata": {},
   "outputs": [],
   "source": [
    "# Setting hyper-parameters\n",
    "batch_size = 128 # batch 的大小，如果出現 OOM error，請降低這個值\n",
    "num_classes = 10 # 類別的數量，Cifar 10 共有 10 個類別\n",
    "epochs = 10 # 訓練的 epochs 數量"
   ]
  },
  {
   "cell_type": "code",
   "execution_count": 9,
   "metadata": {},
   "outputs": [],
   "source": [
    "x_train = x_train.astype('float32')\n",
    "x_test = x_test.astype('float32')\n",
    "x_train /= 255\n",
    "x_test /= 255\n",
    "\n",
    "from keras.utils import to_categorical\n",
    "# Convert class vectors to binary class matrices.\n",
    "y_train = to_categorical(y_train, num_classes)\n",
    "y_test = to_categorical(y_test, num_classes)"
   ]
  },
  {
   "cell_type": "code",
   "execution_count": 5,
   "metadata": {},
   "outputs": [],
   "source": [
    "import math\n",
    "from keras.models import Sequential\n",
    "from keras.layers import Dense, Dropout, Activation, Flatten\n",
    "from keras.layers import Conv2D, MaxPooling2D\n",
    "from keras.optimizers import RMSprop, Adam\n",
    "from keras.utils import to_categorical\n",
    "\n",
    "class Model():\n",
    "    def __init__(self, x_train, y_train, x_test, y_test):\n",
    "        self.FirConvSize = None\n",
    "        self.SecConvSize = None\n",
    "        self.Padding = None\n",
    "        self.model = None\n",
    "        self.KernlSize = None\n",
    "        self.x_train = x_train\n",
    "        self.y_train = y_train\n",
    "        self.x_test = x_test\n",
    "        self.y_test = y_test\n",
    "        self.cnt = 0\n",
    "    \n",
    "    def setHypParam(self, padding='same', KernlSize=(3, 3), FirConvSize=32, SecConvSize=64):\n",
    "        self.FirConvSize = FirConvSize\n",
    "        self.SecConvSize = SecConvSize\n",
    "        self.KernlSize = KernlSize\n",
    "        self.Padding = padding\n",
    "    \n",
    "    def buildModel(self):\n",
    "        self.model = Sequential()\n",
    "        self.model.add(Conv2D(self.FirConvSize, self.KernlSize, padding=self.Padding,\n",
    "                         input_shape=x_train.shape[1:]))\n",
    "        self.model.add(Activation('relu'))\n",
    "        self.model.add(Conv2D(self.FirConvSize, self.KernlSize))\n",
    "        self.model.add(Activation('relu'))\n",
    "        self.model.add(MaxPooling2D(pool_size=(2, 2)))\n",
    "        self.model.add(Dropout(0.25))\n",
    "        \n",
    "        self.model.add(Conv2D(self.SecConvSize, self.KernlSize, padding=self.Padding))\n",
    "        self.model.add(Activation('relu'))\n",
    "        self.model.add(Conv2D(self.SecConvSize, self.KernlSize))\n",
    "        self.model.add(Activation('relu'))\n",
    "        self.model.add(MaxPooling2D(pool_size=(2, 2)))\n",
    "        self.model.add(Dropout(0.25))\n",
    "\n",
    "        self.model.add(Flatten())\n",
    "        self.model.add(Dense(512))\n",
    "        self.model.add(Activation('relu'))\n",
    "        self.model.add(Dropout(0.5))\n",
    "        self.model.add(Dense(num_classes))\n",
    "        self.model.add(Activation('softmax'))\n",
    "    \n",
    "    def setCompile(self):\n",
    "        self.model.compile(loss='categorical_crossentropy',\n",
    "                           optimizer=RMSprop(),\n",
    "                           metrics=['accuracy'])\n",
    "        \n",
    "    def train_generator(self, batch_num = 32):\n",
    "        while True:\n",
    "            for indexs in range(0, len(self.x_train), batch_num):\n",
    "                x_train_gen = self.x_train[indexs: indexs+batch_num]\n",
    "                y_train_gen = self.y_train[indexs: indexs+batch_num]\n",
    "                yield x_train_gen, y_train_gen\n",
    "    \n",
    "    def fitModel_generator(self):\n",
    "        data_generator = ImageDataGenerator(\n",
    "            rotation_range=20,\n",
    "            width_shift_range=0.2,\n",
    "            height_shift_range=0.2,\n",
    "            horizontal_flip=True)\n",
    "        \n",
    "        self.model.fit_generator(data_generator.flow(x_train, y_train, batch_size=32),\n",
    "                                 steps_per_epoch=len(x_train) / 32,\n",
    "                                 epochs=10)\n",
    "    \n",
    "    def evaluateScore(self):\n",
    "        return (self.model.evaluate(self.x_test, self.y_test, verbose=0))"
   ]
  },
  {
   "cell_type": "code",
   "execution_count": 7,
   "metadata": {},
   "outputs": [
    {
     "name": "stdout",
     "output_type": "stream",
     "text": [
      "Epoch 1/10\n",
      "1563/1562 [==============================] - 25s 16ms/step - loss: 1.7838 - acc: 0.3449\n",
      "Epoch 2/10\n",
      "1563/1562 [==============================] - 25s 16ms/step - loss: 1.4773 - acc: 0.4713\n",
      "Epoch 3/10\n",
      "1563/1562 [==============================] - 26s 16ms/step - loss: 1.3952 - acc: 0.5059\n",
      "Epoch 4/10\n",
      "1563/1562 [==============================] - 25s 16ms/step - loss: 1.3727 - acc: 0.5176\n",
      "Epoch 5/10\n",
      "1563/1562 [==============================] - 32s 21ms/step - loss: 1.3795 - acc: 0.5240\n",
      "Epoch 6/10\n",
      "1563/1562 [==============================] - 34s 22ms/step - loss: 1.4034 - acc: 0.5161\n",
      "Epoch 7/10\n",
      "1563/1562 [==============================] - 29s 19ms/step - loss: 1.4275 - acc: 0.5130\n",
      "Epoch 8/10\n",
      "1563/1562 [==============================] - 31s 20ms/step - loss: 1.4920 - acc: 0.4965\n",
      "Epoch 9/10\n",
      "1563/1562 [==============================] - 29s 19ms/step - loss: 1.5301 - acc: 0.4805\n",
      "Epoch 10/10\n",
      "1563/1562 [==============================] - 23s 15ms/step - loss: 1.5713 - acc: 0.4668\n",
      "Test loss:1.3852\n",
      "Test accuracy:0.5439\n"
     ]
    }
   ],
   "source": [
    "FirConvSize = 64\n",
    "SecConvSize = 64\n",
    "padding = 'same'\n",
    "KernelSize_list = (3, 3)\n",
    "\n",
    "model = Model(x_train, y_train, x_test, y_test)\n",
    "model.setHypParam(FirConvSize=FirConvSize, SecConvSize=SecConvSize)\n",
    "model.buildModel()\n",
    "model.setCompile()\n",
    "model.fitModel_generator()\n",
    "score = model.evaluateScore()\n",
    "print('Test loss:%.4f' %score[0])\n",
    "print('Test accuracy:%.4f' %score[1])"
   ]
  }
 ],
 "metadata": {
  "kernelspec": {
   "display_name": "Python 3",
   "language": "python",
   "name": "python3"
  },
  "language_info": {
   "codemirror_mode": {
    "name": "ipython",
    "version": 3
   },
   "file_extension": ".py",
   "mimetype": "text/x-python",
   "name": "python",
   "nbconvert_exporter": "python",
   "pygments_lexer": "ipython3",
   "version": "3.7.1"
  }
 },
 "nbformat": 4,
 "nbformat_minor": 2
}
