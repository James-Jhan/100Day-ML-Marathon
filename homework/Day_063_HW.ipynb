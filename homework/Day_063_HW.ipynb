{
 "cells": [
  {
   "cell_type": "code",
   "execution_count": 1,
   "metadata": {},
   "outputs": [],
   "source": [
    "import numpy as np\n",
    "\n",
    "#Input array\n",
    "X = np.array([[1, 0, 1, 0], [1 ,0 ,1 ,1 ],[ 0 , 1 , 0 , 1 ]])\n",
    "\n",
    "#Output\n",
    "y = np.array([[1], [1], [0]])"
   ]
  },
  {
   "cell_type": "code",
   "execution_count": 2,
   "metadata": {},
   "outputs": [],
   "source": [
    "#Variable initialization\n",
    "epoch = 10000 #Setting training iterations\n",
    "lr = 0.35 #Setting learning rate\n",
    "inputlayer_neurons = X.shape[1] #number of features in data set \n",
    "hiddenlayer_neurons = 3 #number of hidden layers neurons\n",
    "output_neurons = 1 #number of neurons at output layer"
   ]
  },
  {
   "cell_type": "code",
   "execution_count": 3,
   "metadata": {},
   "outputs": [
    {
     "name": "stdout",
     "output_type": "stream",
     "text": [
      "wh:[[0.19112325 0.71150467 0.7641689 ]\n",
      " [0.69490677 0.29158504 0.47921311]\n",
      " [0.66101282 0.72514005 0.05674668]\n",
      " [0.4181571  0.45961475 0.49759719]]\n",
      "\n",
      "bh:[[0.05637318 0.6457066  0.72959717]]\n",
      "\n",
      "wout:[[0.51823023]\n",
      " [0.62565809]\n",
      " [0.9014043 ]]\n",
      "\n",
      "bout:[[0.38856817]]\n"
     ]
    }
   ],
   "source": [
    "#weight and bias initialization\n",
    "wh = np.random.uniform( size = ( inputlayer_neurons , hiddenlayer_neurons ) ) \n",
    "bh = np.random.uniform( size = ( 1 , hiddenlayer_neurons ) ) \n",
    "wout = np.random.uniform( size = ( hiddenlayer_neurons , output_neurons ) ) \n",
    "bout = np.random.uniform( size = ( 1 , output_neurons ) )\n",
    "print(f'wh:{wh}\\n')\n",
    "print(f'bh:{bh}\\n')\n",
    "print(f'wout:{wout}\\n')\n",
    "print(f'bout:{bout}')"
   ]
  },
  {
   "cell_type": "code",
   "execution_count": 4,
   "metadata": {},
   "outputs": [],
   "source": [
    "class MulLayer:\n",
    "    def __init__(self):\n",
    "        self.x = None\n",
    "        self.w = None\n",
    "    \n",
    "    def forward(self, x, w):\n",
    "        self.x = x\n",
    "        self.w = w\n",
    "        out = np.dot(self.x, self.w)\n",
    "        return out\n",
    "    \n",
    "    def backward(self, dout):\n",
    "        dx = dout * self.w\n",
    "        dw = dout * self.x\n",
    "        \n",
    "        return dw, dx\n",
    "\n",
    "class AddLayer:\n",
    "    def __init__(self):\n",
    "        pass\n",
    "    \n",
    "    def forward(self, x, b):\n",
    "        out = x + b\n",
    "        return out\n",
    "    \n",
    "    def backward(self, out):\n",
    "        dx = out * 1\n",
    "        db = out * 1\n",
    "        return dx, db\n",
    "\n",
    "class Sigmoid:\n",
    "    def __init__(self):\n",
    "        self.out = None\n",
    "    \n",
    "    def forward(self, x):\n",
    "        out = 1/(1 + np.exp(-x))\n",
    "        self.out = out\n",
    "        return out\n",
    "    \n",
    "    def backward(self, dout):\n",
    "        dx = dout * (1.0 - self.out) * self.out\n",
    "        return dx\n",
    "        "
   ]
  },
  {
   "cell_type": "code",
   "execution_count": 5,
   "metadata": {},
   "outputs": [],
   "source": [
    "mul_Layer1 = MulLayer()\n",
    "add_Layer1 = AddLayer()\n",
    "sigmoid_Layer1 = Sigmoid()\n",
    "mul_Layer2 = MulLayer()\n",
    "add_Layer2 = AddLayer()\n",
    "sigmoid_Layer2 = Sigmoid()"
   ]
  },
  {
   "cell_type": "markdown",
   "metadata": {
    "collapsed": true
   },
   "source": [
    "# 作業 \n",
    "* 請參閱範例中的 hidden Layer 寫法, 完成 output Layer 的程式"
   ]
  },
  {
   "cell_type": "code",
   "execution_count": 6,
   "metadata": {},
   "outputs": [
    {
     "name": "stdout",
     "output_type": "stream",
     "text": [
      "output of Forward Propogation:\n",
      "[[0.99866325]\n",
      " [0.99880738]\n",
      " [0.00392997]]\n",
      "\n",
      "wout of Backpropagation:\n",
      "[[2.85919493e+00]\n",
      " [2.78978153e+00]\n",
      " [2.72466266e-05]]\n",
      "\n",
      "bout of Backpropagation:\n",
      "[[ 2.0978173 ]\n",
      " [ 1.88458585]\n",
      " [-9.95344874]]\n",
      "\n",
      "Conut: 172358\n",
      "\n",
      "MSE:0.0029999982434756513\n"
     ]
    }
   ],
   "source": [
    "# for i in  range ( epoch ):\n",
    "cnt = 0\n",
    "while (1):\n",
    "    cnt += 1\n",
    "    #Forward Propogation\n",
    "    x1_w1 = mul_Layer1.forward(X, wh)\n",
    "    x1_w1_b1 = add_Layer1.forward(x1_w1, bh)\n",
    "    layer1_out = sigmoid_Layer1.forward(x1_w1_b1)\n",
    "    \n",
    "    # 寫出output Layer\n",
    "    x2_w2 = mul_Layer2.forward(layer1_out, wout)\n",
    "    x2_w2_b2 = add_Layer2.forward(x2_w2, bout)\n",
    "    output = sigmoid_Layer2.forward(x2_w2_b2)\n",
    "    \n",
    "    # (BP)\n",
    "    dout = y - output\n",
    "    dsigmoid2 = sigmoid_Layer2.backward(dout)\n",
    "    dx2_w2, db2 = add_Layer2.backward(dsigmoid2)\n",
    "    dx2, dw2 = mul_Layer2.backward(dx2_w2)\n",
    "    \n",
    "    # Update law\n",
    "    wout = wout + lr * dw2\n",
    "    bout = bout + lr * db2\n",
    "    \n",
    "    if np.std(y-output, ddof = 1) <= 0.003:\n",
    "        break\n",
    "\n",
    "print(f\"output of Forward Propogation:\\n{format(output)}\\n\")\n",
    "print(f\"wout of Backpropagation:\\n{format(wout)}\\n\")\n",
    "print(f\"bout of Backpropagation:\\n{format(bout)}\\n\")\n",
    "print(f\"Conut: {cnt}\\n\")\n",
    "print(f\"MSE:{np.std(y-output, ddof = 1)}\")"
   ]
  }
 ],
 "metadata": {
  "kernelspec": {
   "display_name": "Python 3",
   "language": "python",
   "name": "python3"
  },
  "language_info": {
   "codemirror_mode": {
    "name": "ipython",
    "version": 3
   },
   "file_extension": ".py",
   "mimetype": "text/x-python",
   "name": "python",
   "nbconvert_exporter": "python",
   "pygments_lexer": "ipython3",
   "version": "3.7.2"
  }
 },
 "nbformat": 4,
 "nbformat_minor": 2
}
