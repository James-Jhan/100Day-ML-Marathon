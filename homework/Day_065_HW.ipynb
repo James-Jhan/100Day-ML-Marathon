{
 "cells": [
  {
   "cell_type": "markdown",
   "metadata": {},
   "source": [
    "# 作業:\n",
    "嘗試調整參數:  \n",
    "sg:sg=1表示採用skip-gram,sg=0 表示採用cbow  \n",
    "window:能往左往右看幾個字的意思 "
   ]
  },
  {
   "cell_type": "code",
   "execution_count": 1,
   "metadata": {},
   "outputs": [],
   "source": [
    "import gensim, logging\n",
    "from gensim.models import word2vec"
   ]
  },
  {
   "cell_type": "code",
   "execution_count": 2,
   "metadata": {},
   "outputs": [
    {
     "name": "stderr",
     "output_type": "stream",
     "text": [
      "2019-03-10 17:51:23,927 : INFO : collecting all words and their counts\n",
      "2019-03-10 17:51:23,928 : INFO : PROGRESS: at sentence #0, processed 0 words, keeping 0 word types\n",
      "2019-03-10 17:51:23,928 : INFO : collected 3 word types from a corpus of 4 raw words and 2 sentences\n",
      "2019-03-10 17:51:23,929 : INFO : Loading a fresh vocabulary\n",
      "2019-03-10 17:51:23,929 : INFO : effective_min_count=1 retains 3 unique words (100% of original 3, drops 0)\n",
      "2019-03-10 17:51:23,930 : INFO : effective_min_count=1 leaves 4 word corpus (100% of original 4, drops 0)\n",
      "2019-03-10 17:51:23,930 : INFO : deleting the raw counts dictionary of 3 items\n",
      "2019-03-10 17:51:23,931 : INFO : sample=0.001 downsamples 3 most-common words\n",
      "2019-03-10 17:51:23,932 : INFO : downsampling leaves estimated 0 word corpus (5.7% of prior 4)\n",
      "2019-03-10 17:51:23,933 : INFO : estimated required memory for 3 words and 256 dimensions: 7644 bytes\n",
      "2019-03-10 17:51:23,933 : INFO : resetting layer weights\n",
      "2019-03-10 17:51:23,935 : INFO : training model with 4 workers on 3 vocabulary and 256 features, using sg=1 hs=0 sample=0.001 negative=5 window=10\n",
      "2019-03-10 17:51:23,940 : INFO : worker thread finished; awaiting finish of 3 more threads\n",
      "2019-03-10 17:51:23,941 : INFO : worker thread finished; awaiting finish of 2 more threads\n",
      "2019-03-10 17:51:23,941 : INFO : worker thread finished; awaiting finish of 1 more threads\n",
      "2019-03-10 17:51:23,942 : INFO : worker thread finished; awaiting finish of 0 more threads\n",
      "2019-03-10 17:51:23,942 : INFO : EPOCH - 1 : training on 4 raw words (0 effective words) took 0.0s, 0 effective words/s\n",
      "2019-03-10 17:51:23,945 : INFO : worker thread finished; awaiting finish of 3 more threads\n",
      "2019-03-10 17:51:23,946 : INFO : worker thread finished; awaiting finish of 2 more threads\n",
      "2019-03-10 17:51:23,947 : INFO : worker thread finished; awaiting finish of 1 more threads\n",
      "2019-03-10 17:51:23,947 : INFO : worker thread finished; awaiting finish of 0 more threads\n",
      "2019-03-10 17:51:23,948 : INFO : EPOCH - 2 : training on 4 raw words (0 effective words) took 0.0s, 0 effective words/s\n",
      "2019-03-10 17:51:23,954 : INFO : worker thread finished; awaiting finish of 3 more threads\n",
      "2019-03-10 17:51:23,955 : INFO : worker thread finished; awaiting finish of 2 more threads\n",
      "2019-03-10 17:51:23,955 : INFO : worker thread finished; awaiting finish of 1 more threads\n",
      "2019-03-10 17:51:23,956 : INFO : worker thread finished; awaiting finish of 0 more threads\n",
      "2019-03-10 17:51:23,957 : INFO : EPOCH - 3 : training on 4 raw words (1 effective words) took 0.0s, 346 effective words/s\n",
      "2019-03-10 17:51:23,961 : INFO : worker thread finished; awaiting finish of 3 more threads\n",
      "2019-03-10 17:51:23,962 : INFO : worker thread finished; awaiting finish of 2 more threads\n",
      "2019-03-10 17:51:23,962 : INFO : worker thread finished; awaiting finish of 1 more threads\n",
      "2019-03-10 17:51:23,963 : INFO : worker thread finished; awaiting finish of 0 more threads\n",
      "2019-03-10 17:51:23,964 : INFO : EPOCH - 4 : training on 4 raw words (1 effective words) took 0.0s, 254 effective words/s\n",
      "2019-03-10 17:51:23,968 : INFO : worker thread finished; awaiting finish of 3 more threads\n",
      "2019-03-10 17:51:23,969 : INFO : worker thread finished; awaiting finish of 2 more threads\n",
      "2019-03-10 17:51:23,969 : INFO : worker thread finished; awaiting finish of 1 more threads\n",
      "2019-03-10 17:51:23,971 : INFO : worker thread finished; awaiting finish of 0 more threads\n",
      "2019-03-10 17:51:23,971 : INFO : EPOCH - 5 : training on 4 raw words (0 effective words) took 0.0s, 0 effective words/s\n",
      "2019-03-10 17:51:23,972 : INFO : training on a 20 raw words (2 effective words) took 0.0s, 55 effective words/s\n",
      "2019-03-10 17:51:23,973 : WARNING : under 10 jobs per worker: consider setting a smaller `batch_words' for smoother alpha decay\n"
     ]
    }
   ],
   "source": [
    "sentences = [['I am a hero', 'sentence'], ['She is a teacher', 'sentence']] \n",
    "\n",
    "# train word2vec on the two sentences\n",
    "logging.basicConfig(format='%(asctime)s : %(levelname)s : %(message)s', level=logging.INFO)\n",
    "\n",
    "model = word2vec.Word2Vec(sentences, size=256, min_count=1, window=10, workers=4, sg=1)\n",
    "\n",
    "# sg=0 表示COBW, sg=1 表示skip-gram"
   ]
  },
  {
   "cell_type": "code",
   "execution_count": 3,
   "metadata": {},
   "outputs": [
    {
     "name": "stdout",
     "output_type": "stream",
     "text": [
      "Word2Vec(vocab=3, size=256, alpha=0.025)\n"
     ]
    }
   ],
   "source": [
    "print(model)"
   ]
  },
  {
   "cell_type": "code",
   "execution_count": 4,
   "metadata": {},
   "outputs": [
    {
     "name": "stderr",
     "output_type": "stream",
     "text": [
      "/home/james/anaconda3/lib/python3.7/site-packages/ipykernel_launcher.py:1: DeprecationWarning: Call to deprecated `similarity` (Method will be removed in 4.0.0, use self.wv.similarity() instead).\n",
      "  \"\"\"Entry point for launching an IPython kernel.\n"
     ]
    },
    {
     "data": {
      "text/plain": [
       "0.086732864"
      ]
     },
     "execution_count": 4,
     "metadata": {},
     "output_type": "execute_result"
    }
   ],
   "source": [
    "model.similarity('I am a hero','She is a teacher')"
   ]
  }
 ],
 "metadata": {
  "kernelspec": {
   "display_name": "Python 3",
   "language": "python",
   "name": "python3"
  },
  "language_info": {
   "codemirror_mode": {
    "name": "ipython",
    "version": 3
   },
   "file_extension": ".py",
   "mimetype": "text/x-python",
   "name": "python",
   "nbconvert_exporter": "python",
   "pygments_lexer": "ipython3",
   "version": "3.7.2"
  }
 },
 "nbformat": 4,
 "nbformat_minor": 2
}
