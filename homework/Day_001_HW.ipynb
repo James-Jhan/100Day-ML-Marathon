{
 "cells": [
  {
   "cell_type": "code",
   "execution_count": null,
   "metadata": {},
   "outputs": [],
   "source": [
    "\"\"\"\n",
    "HW 1\n",
    "題目-請上 Kaggle, 在 Competitions 或 Dataset 中找一組競賽或資料並寫下：\n",
    "\n",
    "選擇的資料來源-Kaggle Competitions\n",
    "url:https://www.kaggle.com/c/digit-recognizer\n",
    "\n",
    "1. 選的這組資料為何重要\n",
    "  (1.) 在分類裡面是屬於適合新手的難度。\n",
    "  (2.) 這組資料可以練習影像處理的技巧。\n",
    "  (3.) 說明中有建議使用類神經網路(neural network)進行處理，\n",
    "  有了方向在練習上可以省去尋找演算法的困擾。\n",
    "  (4.) 此組資料已經廣泛運用於 ML 的測試上，因此資料的可信度很高。\n",
    "2. 資料從何而來\n",
    "  資料最初是透過 NIST 從美國人口普查局收集美國高中生手寫阿拉伯數字的影像資料，\n",
    "  接著 MNIST 將此資料加以處理以適合進行 machine learning。\n",
    "3. 蒐集而來的資料型態為何\n",
    "  資料為將影像資料轉變為純數字資料的 csv 檔案。\n",
    "4. 此組資料想解決的問題如何評估\n",
    "  此組資料分成訓練資料與測試資料，藉由訓練資料訓練 ML model，\n",
    "  再透過測試資料測試訓練完成的 ML model 是否可以準確辨別數字。\n",
    "\"\"\""
   ]
  },
  {
   "cell_type": "code",
   "execution_count": null,
   "metadata": {},
   "outputs": [],
   "source": [
    "\"\"\"\n",
    "HW 2\n",
    "題目- 想像你經營一個自由載客車隊，你希望能透過數據分析以提升業績，\n",
    "請你思考並描述你如何規劃整體的分析/解決方案。\n",
    "\n",
    "1. 核心問題為何 (tips：如何定義 「提升業績 & 你的假設」)\n",
    "  1.1. 成本：\n",
    "    1.1.1. 如何降低空車所消耗的汽油\n",
    "    1.1.2. 如何降低人事成本\n",
    "  1.2. 知名度：\n",
    "    1.2.1. 如何提昇車隊知名度\n",
    "    1.2.2. 如何建立車隊鑑別度\n",
    "    1.2.3. 如何提昇回客率\n",
    "  1.3. 支援性：\n",
    "    1.3.1. 要以何種方式使司機可以互通有無\n",
    "    1.3.2. 要如何使新手司機不至於迷路\n",
    "    \n",
    "2. 資料從何而來\n",
    "  1.1. 成本：\n",
    "    透過司機的行車紀錄，統計跑過的路線、收入及支出，畫出效益圖並比較差異處。\n",
    "  1.2. 知名度：\n",
    "    1.2.1. 透過問卷調查乘客喜好，依據喜好制定相關對策。\n",
    "    1.2.2. 調查不同地區的乘客類型，依據此數據將車子與司機進行變裝。\n",
    "  1.3. 支援性：\n",
    "    調查司機於執行勤務時所遇到的問題及想要的溝通工具。\n",
    "3. 蒐集而來的資料型態為何\n",
    "  均為區分類型的數字 csv 檔。\n",
    "4. 你要回答的問題，其如何評估 (tips：你的假設如何驗證)\n",
    "  1.1. 成本：\n",
    "    比較修改跑車路性與時間前後，計算效益。\n",
    "  1.2. 知名度：\n",
    "    1.2.1. 市場調查知名度，並比較修改前後的差異。\n",
    "    1.2.2. 紀錄接獲叫車次數，並比較修改前後的差異。\n",
    "  1.3. 支援性：\n",
    "    1.3.1. 調查司機滿意度調查。\n",
    "    1.3.2. 藉由行車紀錄檢測迷路情況是否降低及支援性是否提高。\n",
    "\"\"\""
   ]
  },
  {
   "cell_type": "code",
   "execution_count": 9,
   "metadata": {},
   "outputs": [
    {
     "data": {
      "text/plain": [
       "'練習時間\\n請寫一個函式用來計算 Mean Square Error¶\\n\\nMSE=1n∑ni=1(Yi−Ŷ i)2\\n\\nHint: 如何取平方'"
      ]
     },
     "execution_count": 9,
     "metadata": {},
     "output_type": "execute_result"
    }
   ],
   "source": [
    "\"\"\"\n",
    "HW_3\n",
    "題目-請寫一個函式用來計算 Mean Square Error¶\n",
    "\n",
    "MSE=1n∑ni=1(Yi−Ŷ i)2\n",
    "\n",
    "Hint: 如何取平方\n",
    "\"\"\""
   ]
  },
  {
   "cell_type": "code",
   "execution_count": 10,
   "metadata": {},
   "outputs": [
    {
     "data": {
      "text/plain": [
       "<Figure size 640x480 with 1 Axes>"
      ]
     },
     "metadata": {},
     "output_type": "display_data"
    }
   ],
   "source": [
    "import numpy as np\n",
    "import matplotlib.pyplot as plt\n",
    "\n",
    "w = 3\n",
    "b = 0.5\n",
    "\n",
    "x_line = np.linspace(0, 100, 101)\n",
    "\n",
    "y = (x_line + np.random.randn(101) * 5) * w + b\n",
    "y_hat = x_line * w + b\n",
    "\n",
    "plt.plot(x_line, y, 'b.', label = 'data')\n",
    "plt.plot(x_line, y_hat, 'r', label = 'prediction')\n",
    "plt.legend(loc = 2)\n",
    "plt.show()"
   ]
  },
  {
   "cell_type": "code",
   "execution_count": 11,
   "metadata": {},
   "outputs": [],
   "source": [
    "def MAE(value, value_hat):\n",
    "    mae = (sum(abs(value - value_hat))) / len(value)\n",
    "    return mae\n",
    "\n",
    "def MSE(value, value_hat):\n",
    "    mse = sum(np.square(value - value_hat)) / len(value)\n",
    "    return mse"
   ]
  },
  {
   "cell_type": "code",
   "execution_count": 12,
   "metadata": {},
   "outputs": [
    {
     "name": "stdout",
     "output_type": "stream",
     "text": [
      "The Mean absolute error is 10.905\n",
      "The Mean square error is 188.545\n"
     ]
    }
   ],
   "source": [
    "MAE_value = MAE(y, y_hat)\n",
    "MSE_value = MSE(y, y_hat)\n",
    "print(\"The Mean absolute error is %.3f\" % (MAE_value))\n",
    "print(\"The Mean square error is %.3f\" % (MSE_value))"
   ]
  }
 ],
 "metadata": {
  "kernelspec": {
   "display_name": "Python 3",
   "language": "python",
   "name": "python3"
  },
  "language_info": {
   "codemirror_mode": {
    "name": "ipython",
    "version": 3
   },
   "file_extension": ".py",
   "mimetype": "text/x-python",
   "name": "python",
   "nbconvert_exporter": "python",
   "pygments_lexer": "ipython3",
   "version": "3.7.0"
  }
 },
 "nbformat": 4,
 "nbformat_minor": 2
}
