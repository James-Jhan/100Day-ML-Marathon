{
 "cells": [
  {
   "cell_type": "markdown",
   "metadata": {},
   "source": [
    "# 作業\n",
    "1. 請試著調整各個超參數，並說明那些超參數對於結果有明顯的影響?\n",
    "2. CNN 與 DNN 哪個模型的參數數量比較多? 造成參數的數量不同的原因在哪?"
   ]
  },
  {
   "cell_type": "code",
   "execution_count": 1,
   "metadata": {},
   "outputs": [
    {
     "name": "stderr",
     "output_type": "stream",
     "text": [
      "Using TensorFlow backend.\n"
     ]
    }
   ],
   "source": [
    "# Loading library\n",
    "from keras.datasets import cifar10\n",
    "from keras.models import Sequential\n",
    "from keras.layers import Dense, Dropout, Activation, Flatten\n",
    "from keras.layers import Conv2D, MaxPooling2D\n",
    "from keras.optimizers import RMSprop, Adam\n",
    "from keras.utils import to_categorical"
   ]
  },
  {
   "cell_type": "code",
   "execution_count": 2,
   "metadata": {},
   "outputs": [],
   "source": [
    "# Setting hyper-parameters\n",
    "batch_size = 128 # batch 的大小，如果出現 OOM error，請降低這個值\n",
    "num_classes = 10 # 類別的數量，Cifar 10 共有 10 個類別\n",
    "epochs = 10 # 訓練的 epochs 數量"
   ]
  },
  {
   "cell_type": "code",
   "execution_count": 3,
   "metadata": {},
   "outputs": [
    {
     "name": "stdout",
     "output_type": "stream",
     "text": [
      "x_train shape: (50000, 32, 32, 3)\n",
      "x_test shape: (10000, 32, 32, 3)\n"
     ]
    }
   ],
   "source": [
    "# Check data formation\n",
    "(x_train_orginal, y_train_orginal), (x_test_orginal, y_test_orginal) = cifar10.load_data()\n",
    "print('x_train shape:', x_train_orginal.shape)\n",
    "print('x_test shape:', x_test_orginal.shape)"
   ]
  },
  {
   "cell_type": "code",
   "execution_count": 4,
   "metadata": {},
   "outputs": [],
   "source": [
    "x_train = x_train_orginal\n",
    "x_test = x_test_orginal\n",
    "\n",
    "x_train = x_train.astype('float32')\n",
    "x_test = x_test.astype('float32')\n",
    "x_train /= 255\n",
    "x_test /= 255\n",
    "\n",
    "# Convert class vectors to binary class matrices.\n",
    "y_train = to_categorical(y_train_orginal, num_classes)\n",
    "y_test = to_categorical(y_test_orginal, num_classes)"
   ]
  },
  {
   "cell_type": "code",
   "execution_count": 12,
   "metadata": {},
   "outputs": [],
   "source": [
    "class Model():\n",
    "    def __init__(self, x_train, y_train, x_test, y_test):\n",
    "        self.FirConvSize = None\n",
    "        self.SecConvSize = None\n",
    "        self.Padding = None\n",
    "        self.model = None\n",
    "        self.KernlSize = None\n",
    "        self.x_train = x_train\n",
    "        self.y_train = y_train\n",
    "        self.x_test = x_test\n",
    "        self.y_test = y_test\n",
    "    \n",
    "    def setHypParam(self, padding='same', KernlSize=(3, 3), FirConvSize=32, SecConvSize=64):\n",
    "        self.FirConvSize = FirConvSize\n",
    "        self.SecConvSize = SecConvSize\n",
    "        self.KernlSize = KernlSize\n",
    "        self.Padding = padding\n",
    "    \n",
    "    def buildModel(self):\n",
    "        self.model = Sequential()\n",
    "        self.model.add(Conv2D(self.FirConvSize, self.KernlSize, padding=self.Padding,\n",
    "                         input_shape=x_train.shape[1:]))\n",
    "        self.model.add(Activation('relu'))\n",
    "        self.model.add(Conv2D(self.FirConvSize, self.KernlSize))\n",
    "        self.model.add(Activation('relu'))\n",
    "        self.model.add(MaxPooling2D(pool_size=(2, 2)))\n",
    "        self.model.add(Dropout(0.25))\n",
    "        \n",
    "        self.model.add(Conv2D(self.SecConvSize, self.KernlSize, padding=self.Padding))\n",
    "        self.model.add(Activation('relu'))\n",
    "        self.model.add(Conv2D(self.SecConvSize, self.KernlSize))\n",
    "        self.model.add(Activation('relu'))\n",
    "        self.model.add(MaxPooling2D(pool_size=(2, 2)))\n",
    "        self.model.add(Dropout(0.25))\n",
    "\n",
    "        self.model.add(Flatten())\n",
    "        self.model.add(Dense(512))\n",
    "        self.model.add(Activation('relu'))\n",
    "        self.model.add(Dropout(0.5))\n",
    "        self.model.add(Dense(num_classes))\n",
    "        self.model.add(Activation('softmax'))\n",
    "    \n",
    "    def setCompile(self):\n",
    "        self.model.compile(loss='categorical_crossentropy',\n",
    "                           optimizer=RMSprop(),\n",
    "                           metrics=['accuracy'])\n",
    "    \n",
    "    def fitModel(self):\n",
    "        self.model.fit(self.x_train, self.y_train,\n",
    "                       batch_size=128, \n",
    "                       epochs=10,\n",
    "                       verbose=False,\n",
    "                       validation_data=(self.x_test, self.y_test))\n",
    "    \n",
    "    def evaluateScore(self):\n",
    "        return (self.model.evaluate(self.x_test, self.y_test, verbose=0))"
   ]
  },
  {
   "cell_type": "code",
   "execution_count": 14,
   "metadata": {},
   "outputs": [
    {
     "name": "stdout",
     "output_type": "stream",
     "text": [
      "Fir_Conv_size:16, Sec_Conv_size:32\n",
      "Test loss:0.7868\n",
      "Test accuracy:0.7293\n",
      "\n",
      "Fir_Conv_size:16, Sec_Conv_size:64\n",
      "Test loss:0.8198\n",
      "Test accuracy:0.7288\n",
      "\n",
      "Fir_Conv_size:16, Sec_Conv_size:128\n",
      "Test loss:0.7601\n",
      "Test accuracy:0.7666\n",
      "\n",
      "Fir_Conv_size:32, Sec_Conv_size:32\n",
      "Test loss:0.7570\n",
      "Test accuracy:0.7385\n",
      "\n",
      "Fir_Conv_size:32, Sec_Conv_size:64\n",
      "Test loss:0.7258\n",
      "Test accuracy:0.7575\n",
      "\n",
      "Fir_Conv_size:32, Sec_Conv_size:128\n",
      "Test loss:0.6964\n",
      "Test accuracy:0.7764\n",
      "\n",
      "Fir_Conv_size:64, Sec_Conv_size:32\n",
      "Test loss:0.7860\n",
      "Test accuracy:0.7339\n",
      "\n",
      "Fir_Conv_size:64, Sec_Conv_size:64\n",
      "Test loss:0.6995\n",
      "Test accuracy:0.7766\n",
      "\n",
      "Fir_Conv_size:64, Sec_Conv_size:128\n",
      "Test loss:0.8113\n",
      "Test accuracy:0.7620\n",
      "\n"
     ]
    }
   ],
   "source": [
    "# Discissing effection of conv size.\n",
    "# setting hyper-parameters\n",
    "FirConvSize_list = [16, 32, 64]\n",
    "SecConvSize_list = [32, 64, 128]\n",
    "\n",
    "for FirConvSize in FirConvSize_list:\n",
    "    for SecConvSize in SecConvSize_list:\n",
    "        print(\"Fir_Conv_size:%d, Sec_Conv_size:%d\" %(FirConvSize, SecConvSize))\n",
    "        model = Model(x_train, y_train, x_test, y_test)\n",
    "        model.setHypParam(FirConvSize=FirConvSize, SecConvSize=SecConvSize)\n",
    "        model.buildModel()\n",
    "        model.setCompile()\n",
    "        model.fitModel()\n",
    "        score = model.evaluateScore()\n",
    "        print('Test loss:%.4f' %score[0])\n",
    "        print('Test accuracy:%.4f' %score[1])\n",
    "        print(\"\")"
   ]
  },
  {
   "cell_type": "markdown",
   "metadata": {},
   "source": [
    "# Discussion - 1\n",
    "* 從上面的比較分析，調整各層的 filter 個數均可以有效的提升準確度，且趨勢為 filter 越多準度越高。\n",
    "* 另外，可以發現越靠近輸出層的 filter 對於預測精度影響越大，因此可試著將靠近 output layer 的 filter 調高以求更高的準確度。"
   ]
  },
  {
   "cell_type": "code",
   "execution_count": 15,
   "metadata": {},
   "outputs": [
    {
     "name": "stdout",
     "output_type": "stream",
     "text": [
      "Padding:same, Fir_Conv_size:64, Sec_Conv_size:64\n",
      "Test loss:0.6980\n",
      "Test accuracy:0.7715\n",
      "\n",
      "Padding:VALID, Fir_Conv_size:64, Sec_Conv_size:64\n",
      "Test loss:0.7069\n",
      "Test accuracy:0.7619\n",
      "\n"
     ]
    }
   ],
   "source": [
    "FirConvSize = 64\n",
    "SecConvSize = 64\n",
    "padding_list = ['same', 'VALID']\n",
    "\n",
    "for padding in padding_list:\n",
    "    print(\"Padding:%s, Fir_Conv_size:%d, Sec_Conv_size:%d\" %(padding, FirConvSize, SecConvSize))\n",
    "    model = Model(x_train, y_train, x_test, y_test)\n",
    "    model.setHypParam(padding=padding, FirConvSize=FirConvSize, SecConvSize=SecConvSize)\n",
    "    model.buildModel()\n",
    "    model.setCompile()\n",
    "    model.fitModel()\n",
    "    score = model.evaluateScore()\n",
    "    print('Test loss:%.4f' %score[0])\n",
    "    print('Test accuracy:%.4f' %score[1])\n",
    "    print(\"\")"
   ]
  },
  {
   "cell_type": "markdown",
   "metadata": {},
   "source": [
    "# Discussion - 2\n",
    "* 使用 padding = \"same\" 可以得到更好的效果。\n",
    "* 因為不會降低影像的維度，進而得到的資訊較多，因此預測效果較好。"
   ]
  },
  {
   "cell_type": "code",
   "execution_count": 19,
   "metadata": {},
   "outputs": [
    {
     "name": "stdout",
     "output_type": "stream",
     "text": [
      "(3, 3)\n",
      "Padding:same, Fir_Conv_size:64, Sec_Conv_size:64\n",
      "Test loss:0.6480\n",
      "Test accuracy:0.7783\n",
      "\n",
      "(5, 5)\n",
      "Padding:same, Fir_Conv_size:64, Sec_Conv_size:64\n",
      "Test loss:0.7560\n",
      "Test accuracy:0.7568\n",
      "\n",
      "(8, 8)\n",
      "Padding:same, Fir_Conv_size:64, Sec_Conv_size:64\n",
      "Test loss:1.1538\n",
      "Test accuracy:0.6003\n",
      "\n"
     ]
    }
   ],
   "source": [
    "padding = 'same'\n",
    "KernelSize_list = [(3, 3), (5, 5), (8, 8)]\n",
    "\n",
    "for KernelSize in KernelSize_list:\n",
    "    print(KernelSize)\n",
    "    print(\"Padding:%s, Fir_Conv_size:%d, Sec_Conv_size:%d\" %(padding, FirConvSize, SecConvSize))\n",
    "    model = Model(x_train, y_train, x_test, y_test)\n",
    "    model.setHypParam(padding=padding, KernlSize=KernelSize, FirConvSize=FirConvSize, SecConvSize=SecConvSize)\n",
    "    model.buildModel()\n",
    "    model.setCompile()\n",
    "    model.fitModel()\n",
    "    score = model.evaluateScore()\n",
    "    print('Test loss:%.4f' %score[0])\n",
    "    print('Test accuracy:%.4f' %score[1])\n",
    "    print(\"\")"
   ]
  },
  {
   "cell_type": "markdown",
   "metadata": {},
   "source": [
    "# Discussion - 3\n",
    "* 調整 Kernel 越小對於預測準度的提升越有幫助。"
   ]
  },
  {
   "cell_type": "markdown",
   "metadata": {},
   "source": [
    "# Conclusion\n",
    "* 對於結果有明顯影響的超參數只有 Kernel Size，剩下的超參數對於結果的影響差異並不大。"
   ]
  }
 ],
 "metadata": {
  "kernelspec": {
   "display_name": "Python 3",
   "language": "python",
   "name": "python3"
  },
  "language_info": {
   "codemirror_mode": {
    "name": "ipython",
    "version": 3
   },
   "file_extension": ".py",
   "mimetype": "text/x-python",
   "name": "python",
   "nbconvert_exporter": "python",
   "pygments_lexer": "ipython3",
   "version": "3.7.1"
  }
 },
 "nbformat": 4,
 "nbformat_minor": 2
}
